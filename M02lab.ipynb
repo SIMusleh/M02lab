{
 "cells": [
  {
   "cell_type": "code",
   "execution_count": null,
   "id": "becda8bc",
   "metadata": {},
   "outputs": [
    {
     "name": "stdout",
     "output_type": "stream",
     "text": [
      "Enter the student's last name (ZZZ to quit): milly\n",
      "Enter the student's first name: bob\n",
      "Enter the student's GPA: 3.5\n",
      "bob milly has made the Dean's List!\n",
      "Enter the student's last name (ZZZ to quit): killy\n",
      "Enter the student's first name: villy\n",
      "Enter the student's GPA: 3.30\n",
      "villy killy has made the Honor Roll!\n",
      "Enter the student's last name (ZZZ to quit): bieber\n",
      "Enter the student's first name: Justin \n",
      "Enter the student's GPA: 2.9\n",
      "Justin  bieber does not qualify for the Dean's List or the Honor Roll.\n",
      "Enter the student's last name (ZZZ to quit): hay\n",
      "Enter the student's first name: may\n",
      "Enter the student's GPA: 1.0\n",
      "may hay does not qualify for the Dean's List or the Honor Roll.\n",
      "Enter the student's last name (ZZZ to quit): sam\n",
      "Enter the student's first name: molly\n",
      "Enter the student's GPA: 4.0\n",
      "molly sam has made the Dean's List!\n"
     ]
    }
   ],
   "source": [
    "# Author: Sahar Musleh\n",
    "# File Name: M02lab.ipynb\n",
    "# Description: This app accepts student names and GPAs and checks if they qualify for the Dean's List or the Honor Roll.\n",
    "\n",
    "while True:\n",
    "    # Get the student's last name\n",
    "    last_name = input(\"Enter the student's last name (ZZZ to quit): \")\n",
    "    \n",
    "    # Quit if the last name is 'ZZZ'\n",
    "    if last_name == 'ZZZ':\n",
    "        break\n",
    "    \n",
    "    # Get the student's first name\n",
    "    first_name = input(\"Enter the student's first name: \")\n",
    "    \n",
    "    # Get the student's GPA as a float\n",
    "    gpa = float(input(\"Enter the student's GPA: \"))\n",
    "    \n",
    "    # Check if the student qualifies for the Dean's List\n",
    "    if gpa >= 3.5:\n",
    "        print(f\"{first_name} {last_name} has made the Dean's List!\")\n",
    "    \n",
    "    # Check if the student qualifies for the Honor Roll\n",
    "    elif gpa >= 3.25:\n",
    "        print(f\"{first_name} {last_name} has made the Honor Roll!\")\n",
    "    \n",
    "    # If the student doesn't qualify for either, print a message saying so\n",
    "    else:\n",
    "        print(f\"{first_name} {last_name} does not qualify for the Dean's List or the Honor Roll.\") \n"
   ]
  },
  {
   "cell_type": "code",
   "execution_count": null,
   "id": "632f9351",
   "metadata": {},
   "outputs": [],
   "source": []
  }
 ],
 "metadata": {
  "kernelspec": {
   "display_name": "Python 3 (ipykernel)",
   "language": "python",
   "name": "python3"
  },
  "language_info": {
   "codemirror_mode": {
    "name": "ipython",
    "version": 3
   },
   "file_extension": ".py",
   "mimetype": "text/x-python",
   "name": "python",
   "nbconvert_exporter": "python",
   "pygments_lexer": "ipython3",
   "version": "3.10.9"
  }
 },
 "nbformat": 4,
 "nbformat_minor": 5
}
